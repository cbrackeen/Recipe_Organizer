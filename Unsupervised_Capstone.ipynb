{
 "cells": [
  {
   "cell_type": "code",
   "execution_count": 1,
   "metadata": {},
   "outputs": [],
   "source": [
    "%matplotlib inline\n",
    "import numpy as np\n",
    "import pandas as pd\n",
    "import scipy\n",
    "import sklearn\n",
    "import spacy\n",
    "import matplotlib.pyplot as plt\n",
    "import seaborn as sns\n",
    "import re\n",
    "from nltk.corpus import gutenberg, stopwords\n",
    "from collections import Counter\n",
    "from sklearn import ensemble\n",
    "from sklearn.model_selection import train_test_split\n",
    "from sklearn.model_selection import cross_val_score\n",
    "from sklearn.feature_extraction.text import TfidfVectorizer\n",
    "from sklearn.cluster import KMeans\n",
    "from sklearn.preprocessing import normalize\n",
    "from sklearn.preprocessing import StandardScaler\n",
    "from sklearn.decomposition import PCA\n",
    "from sklearn.cluster import MiniBatchKMeans\n",
    "from sklearn.cluster import MeanShift, estimate_bandwidth\n",
    "from sklearn.cluster import SpectralClustering\n",
    "from sklearn.cluster import AffinityPropagation\n",
    "from sklearn import metrics\n",
    "from sklearn.feature_extraction.text import TfidfVectorizer\n",
    "from sklearn.linear_model import LogisticRegression"
   ]
  },
  {
   "cell_type": "code",
   "execution_count": 2,
   "metadata": {},
   "outputs": [],
   "source": [
    "recipes = pd.read_excel('Unsupervised_Capstone.xlsx')"
   ]
  },
  {
   "cell_type": "code",
   "execution_count": 3,
   "metadata": {},
   "outputs": [
    {
     "data": {
      "text/html": [
       "<div>\n",
       "<style scoped>\n",
       "    .dataframe tbody tr th:only-of-type {\n",
       "        vertical-align: middle;\n",
       "    }\n",
       "\n",
       "    .dataframe tbody tr th {\n",
       "        vertical-align: top;\n",
       "    }\n",
       "\n",
       "    .dataframe thead th {\n",
       "        text-align: right;\n",
       "    }\n",
       "</style>\n",
       "<table border=\"1\" class=\"dataframe\">\n",
       "  <thead>\n",
       "    <tr style=\"text-align: right;\">\n",
       "      <th></th>\n",
       "      <th>Title</th>\n",
       "      <th>Author</th>\n",
       "      <th>Time</th>\n",
       "      <th>Summary</th>\n",
       "      <th>Steps</th>\n",
       "      <th>Reviews</th>\n",
       "      <th>Calories</th>\n",
       "      <th>Fat</th>\n",
       "      <th>Carbs</th>\n",
       "      <th>Protein</th>\n",
       "    </tr>\n",
       "  </thead>\n",
       "  <tbody>\n",
       "    <tr>\n",
       "      <th>0</th>\n",
       "      <td>Summer Squash Fritters With Garlic Dipping Sauce</td>\n",
       "      <td>KIM SEVERSON</td>\n",
       "      <td>85</td>\n",
       "      <td>David Venable, the most popular host on QVC, h...</td>\n",
       "      <td>PREPARE THE DIPPING SAUCE: Heat oven to 375 de...</td>\n",
       "      <td>155</td>\n",
       "      <td>253.0</td>\n",
       "      <td>22.0</td>\n",
       "      <td>9.0</td>\n",
       "      <td>3.0</td>\n",
       "    </tr>\n",
       "    <tr>\n",
       "      <th>1</th>\n",
       "      <td>Creamy Ramp Pesto Pasta</td>\n",
       "      <td>KIM SEVERSON</td>\n",
       "      <td>30</td>\n",
       "      <td>Ramps are one of those items that seem so appe...</td>\n",
       "      <td>Bring a large pot of water to a boil for pasta...</td>\n",
       "      <td>47</td>\n",
       "      <td>516.0</td>\n",
       "      <td>21.0</td>\n",
       "      <td>62.0</td>\n",
       "      <td>18.0</td>\n",
       "    </tr>\n",
       "    <tr>\n",
       "      <th>2</th>\n",
       "      <td>Mushroom Risotto With Peas</td>\n",
       "      <td>MARTHA ROSE SHULMAN</td>\n",
       "      <td>50</td>\n",
       "      <td>If you are ever at a loss for what to make for...</td>\n",
       "      <td>Bring stock or broth to a simmer in a saucepan...</td>\n",
       "      <td>709</td>\n",
       "      <td>NaN</td>\n",
       "      <td>NaN</td>\n",
       "      <td>NaN</td>\n",
       "      <td>NaN</td>\n",
       "    </tr>\n",
       "    <tr>\n",
       "      <th>3</th>\n",
       "      <td>Mussel Risotto</td>\n",
       "      <td>MARTHA ROSE SHULMAN</td>\n",
       "      <td>45</td>\n",
       "      <td>I usually keep a good supply of arborio rice o...</td>\n",
       "      <td>Clean the mussels. Inspect each one carefully ...</td>\n",
       "      <td>23</td>\n",
       "      <td>603.0</td>\n",
       "      <td>9.0</td>\n",
       "      <td>93.0</td>\n",
       "      <td>27.0</td>\n",
       "    </tr>\n",
       "    <tr>\n",
       "      <th>4</th>\n",
       "      <td>Asparagus Frittata With Burrata and Herb Pesto</td>\n",
       "      <td>DAVID TANIS</td>\n",
       "      <td>30</td>\n",
       "      <td>Frittata, the savory Italian egg dish, can be ...</td>\n",
       "      <td>Rinse asparagus, and pat dry. Cut into 1-inch ...</td>\n",
       "      <td>275</td>\n",
       "      <td>373.0</td>\n",
       "      <td>33.0</td>\n",
       "      <td>3.0</td>\n",
       "      <td>15.0</td>\n",
       "    </tr>\n",
       "  </tbody>\n",
       "</table>\n",
       "</div>"
      ],
      "text/plain": [
       "                                              Title               Author  \\\n",
       "0  Summer Squash Fritters With Garlic Dipping Sauce         KIM SEVERSON   \n",
       "1                           Creamy Ramp Pesto Pasta         KIM SEVERSON   \n",
       "2                        Mushroom Risotto With Peas  MARTHA ROSE SHULMAN   \n",
       "3                                    Mussel Risotto  MARTHA ROSE SHULMAN   \n",
       "4    Asparagus Frittata With Burrata and Herb Pesto          DAVID TANIS   \n",
       "\n",
       "   Time                                            Summary  \\\n",
       "0    85  David Venable, the most popular host on QVC, h...   \n",
       "1    30  Ramps are one of those items that seem so appe...   \n",
       "2    50  If you are ever at a loss for what to make for...   \n",
       "3    45  I usually keep a good supply of arborio rice o...   \n",
       "4    30  Frittata, the savory Italian egg dish, can be ...   \n",
       "\n",
       "                                               Steps  Reviews  Calories   Fat  \\\n",
       "0  PREPARE THE DIPPING SAUCE: Heat oven to 375 de...      155     253.0  22.0   \n",
       "1  Bring a large pot of water to a boil for pasta...       47     516.0  21.0   \n",
       "2  Bring stock or broth to a simmer in a saucepan...      709       NaN   NaN   \n",
       "3  Clean the mussels. Inspect each one carefully ...       23     603.0   9.0   \n",
       "4  Rinse asparagus, and pat dry. Cut into 1-inch ...      275     373.0  33.0   \n",
       "\n",
       "   Carbs  Protein  \n",
       "0    9.0      3.0  \n",
       "1   62.0     18.0  \n",
       "2    NaN      NaN  \n",
       "3   93.0     27.0  \n",
       "4    3.0     15.0  "
      ]
     },
     "execution_count": 3,
     "metadata": {},
     "output_type": "execute_result"
    }
   ],
   "source": [
    "recipes.head()"
   ]
  },
  {
   "cell_type": "code",
   "execution_count": 4,
   "metadata": {},
   "outputs": [],
   "source": [
    "#Add in recipe number\n",
    "recipes = recipes.reset_index()\n",
    "recipes.columns = ['Recipe_Num','Title', 'Author', 'Time', 'Summary', 'Steps', 'Reviews',\\\n",
    "'Calories', 'Fat', 'Carbs', 'Protein']\n",
    "recipes['Text'] = (recipes.Summary + recipes.Steps)"
   ]
  },
  {
   "cell_type": "code",
   "execution_count": 137,
   "metadata": {},
   "outputs": [
    {
     "data": {
      "text/html": [
       "<div>\n",
       "<style scoped>\n",
       "    .dataframe tbody tr th:only-of-type {\n",
       "        vertical-align: middle;\n",
       "    }\n",
       "\n",
       "    .dataframe tbody tr th {\n",
       "        vertical-align: top;\n",
       "    }\n",
       "\n",
       "    .dataframe thead th {\n",
       "        text-align: right;\n",
       "    }\n",
       "</style>\n",
       "<table border=\"1\" class=\"dataframe\">\n",
       "  <thead>\n",
       "    <tr style=\"text-align: right;\">\n",
       "      <th></th>\n",
       "      <th>Recipe_Num</th>\n",
       "      <th>Title</th>\n",
       "      <th>Author</th>\n",
       "      <th>Time</th>\n",
       "      <th>Summary</th>\n",
       "      <th>Steps</th>\n",
       "      <th>Reviews</th>\n",
       "      <th>Calories</th>\n",
       "      <th>Fat</th>\n",
       "      <th>Carbs</th>\n",
       "      <th>Protein</th>\n",
       "      <th>Text</th>\n",
       "    </tr>\n",
       "  </thead>\n",
       "  <tbody>\n",
       "    <tr>\n",
       "      <th>0</th>\n",
       "      <td>0</td>\n",
       "      <td>Summer Squash Fritters With Garlic Dipping Sauce</td>\n",
       "      <td>KIM SEVERSON</td>\n",
       "      <td>85</td>\n",
       "      <td>David Venable, the most popular host on QVC, h...</td>\n",
       "      <td>PREPARE THE DIPPING SAUCE: Heat oven to 375 de...</td>\n",
       "      <td>155</td>\n",
       "      <td>253.0</td>\n",
       "      <td>22.0</td>\n",
       "      <td>9.0</td>\n",
       "      <td>3.0</td>\n",
       "      <td>David Venable, the most popular host on QVC, h...</td>\n",
       "    </tr>\n",
       "    <tr>\n",
       "      <th>1</th>\n",
       "      <td>1</td>\n",
       "      <td>Creamy Ramp Pesto Pasta</td>\n",
       "      <td>KIM SEVERSON</td>\n",
       "      <td>30</td>\n",
       "      <td>Ramps are one of those items that seem so appe...</td>\n",
       "      <td>Bring a large pot of water to a boil for pasta...</td>\n",
       "      <td>47</td>\n",
       "      <td>516.0</td>\n",
       "      <td>21.0</td>\n",
       "      <td>62.0</td>\n",
       "      <td>18.0</td>\n",
       "      <td>Ramps are one of those items that seem so appe...</td>\n",
       "    </tr>\n",
       "    <tr>\n",
       "      <th>2</th>\n",
       "      <td>2</td>\n",
       "      <td>Mushroom Risotto With Peas</td>\n",
       "      <td>MARTHA ROSE SHULMAN</td>\n",
       "      <td>50</td>\n",
       "      <td>If you are ever at a loss for what to make for...</td>\n",
       "      <td>Bring stock or broth to a simmer in a saucepan...</td>\n",
       "      <td>709</td>\n",
       "      <td>NaN</td>\n",
       "      <td>NaN</td>\n",
       "      <td>NaN</td>\n",
       "      <td>NaN</td>\n",
       "      <td>If you are ever at a loss for what to make for...</td>\n",
       "    </tr>\n",
       "    <tr>\n",
       "      <th>3</th>\n",
       "      <td>3</td>\n",
       "      <td>Mussel Risotto</td>\n",
       "      <td>MARTHA ROSE SHULMAN</td>\n",
       "      <td>45</td>\n",
       "      <td>I usually keep a good supply of arborio rice o...</td>\n",
       "      <td>Clean the mussels. Inspect each one carefully ...</td>\n",
       "      <td>23</td>\n",
       "      <td>603.0</td>\n",
       "      <td>9.0</td>\n",
       "      <td>93.0</td>\n",
       "      <td>27.0</td>\n",
       "      <td>I usually keep a good supply of arborio rice o...</td>\n",
       "    </tr>\n",
       "    <tr>\n",
       "      <th>4</th>\n",
       "      <td>4</td>\n",
       "      <td>Asparagus Frittata With Burrata and Herb Pesto</td>\n",
       "      <td>DAVID TANIS</td>\n",
       "      <td>30</td>\n",
       "      <td>Frittata, the savory Italian egg dish, can be ...</td>\n",
       "      <td>Rinse asparagus, and pat dry. Cut into 1-inch ...</td>\n",
       "      <td>275</td>\n",
       "      <td>373.0</td>\n",
       "      <td>33.0</td>\n",
       "      <td>3.0</td>\n",
       "      <td>15.0</td>\n",
       "      <td>Frittata, the savory Italian egg dish, can be ...</td>\n",
       "    </tr>\n",
       "  </tbody>\n",
       "</table>\n",
       "</div>"
      ],
      "text/plain": [
       "   Recipe_Num                                             Title  \\\n",
       "0           0  Summer Squash Fritters With Garlic Dipping Sauce   \n",
       "1           1                           Creamy Ramp Pesto Pasta   \n",
       "2           2                        Mushroom Risotto With Peas   \n",
       "3           3                                    Mussel Risotto   \n",
       "4           4    Asparagus Frittata With Burrata and Herb Pesto   \n",
       "\n",
       "                Author  Time  \\\n",
       "0         KIM SEVERSON    85   \n",
       "1         KIM SEVERSON    30   \n",
       "2  MARTHA ROSE SHULMAN    50   \n",
       "3  MARTHA ROSE SHULMAN    45   \n",
       "4          DAVID TANIS    30   \n",
       "\n",
       "                                             Summary  \\\n",
       "0  David Venable, the most popular host on QVC, h...   \n",
       "1  Ramps are one of those items that seem so appe...   \n",
       "2  If you are ever at a loss for what to make for...   \n",
       "3  I usually keep a good supply of arborio rice o...   \n",
       "4  Frittata, the savory Italian egg dish, can be ...   \n",
       "\n",
       "                                               Steps  Reviews  Calories   Fat  \\\n",
       "0  PREPARE THE DIPPING SAUCE: Heat oven to 375 de...      155     253.0  22.0   \n",
       "1  Bring a large pot of water to a boil for pasta...       47     516.0  21.0   \n",
       "2  Bring stock or broth to a simmer in a saucepan...      709       NaN   NaN   \n",
       "3  Clean the mussels. Inspect each one carefully ...       23     603.0   9.0   \n",
       "4  Rinse asparagus, and pat dry. Cut into 1-inch ...      275     373.0  33.0   \n",
       "\n",
       "   Carbs  Protein                                               Text  \n",
       "0    9.0      3.0  David Venable, the most popular host on QVC, h...  \n",
       "1   62.0     18.0  Ramps are one of those items that seem so appe...  \n",
       "2    NaN      NaN  If you are ever at a loss for what to make for...  \n",
       "3   93.0     27.0  I usually keep a good supply of arborio rice o...  \n",
       "4    3.0     15.0  Frittata, the savory Italian egg dish, can be ...  "
      ]
     },
     "metadata": {},
     "output_type": "display_data"
    }
   ],
   "source": [
    "display(recipes.head())"
   ]
  },
  {
   "cell_type": "code",
   "execution_count": 6,
   "metadata": {},
   "outputs": [],
   "source": [
    "recipes_noNan = recipes.iloc[:,:6]"
   ]
  },
  {
   "cell_type": "code",
   "execution_count": 109,
   "metadata": {},
   "outputs": [],
   "source": [
    "recipes_nutr = recipes.dropna()"
   ]
  },
  {
   "cell_type": "code",
   "execution_count": 7,
   "metadata": {},
   "outputs": [],
   "source": [
    "#Separate out purely numerical data for train and test sets\n",
    "NumX_train, NumX_test, Numy_train, Numy_test, recipes_train, recipes_test =\\\n",
    "    train_test_split(\n",
    "    recipes.iloc[:,[3,6]],\n",
    "    recipes.iloc[:,[2]], recipes,\n",
    "    test_size=0.2,\n",
    "    random_state=42)"
   ]
  },
  {
   "cell_type": "code",
   "execution_count": 133,
   "metadata": {},
   "outputs": [],
   "source": [
    "#Clustering based on the two numerical categories\n",
    "recipes_num = recipes.iloc[:,[3,6]]\n",
    "\n",
    "#Normalize Data\n",
    "ss = StandardScaler()\n",
    "recipes_num_normal = ss.fit_transform(NumX_train)"
   ]
  },
  {
   "cell_type": "code",
   "execution_count": 307,
   "metadata": {},
   "outputs": [
    {
     "name": "stdout",
     "output_type": "stream",
     "text": [
      "Number of estimated clusters: 7\n"
     ]
    }
   ],
   "source": [
    "#MeanShift Clustering\n",
    "bandwidth = estimate_bandwidth(recipes_num_normal, quantile=0.2, n_samples=120)\n",
    "ms = MeanShift(bandwidth=bandwidth, bin_seeding=True)\n",
    "ms_pred = ms.fit_predict(recipes_num_normal)\n",
    "labels = ms.labels_\n",
    "n_clusters_ = len(np.unique(labels))\n",
    "\n",
    "print(\"Number of estimated clusters: {}\".format(n_clusters_))"
   ]
  },
  {
   "cell_type": "code",
   "execution_count": 308,
   "metadata": {},
   "outputs": [
    {
     "name": "stderr",
     "output_type": "stream",
     "text": [
      "/Library/Frameworks/Python.framework/Versions/3.6/lib/python3.6/site-packages/ipykernel_launcher.py:1: SettingWithCopyWarning: \n",
      "A value is trying to be set on a copy of a slice from a DataFrame.\n",
      "Try using .loc[row_indexer,col_indexer] = value instead\n",
      "\n",
      "See the caveats in the documentation: http://pandas.pydata.org/pandas-docs/stable/indexing.html#indexing-view-versus-copy\n",
      "  \"\"\"Entry point for launching an IPython kernel.\n"
     ]
    }
   ],
   "source": [
    "recipes_train['Meanshift'] = ms_pred"
   ]
  },
  {
   "cell_type": "code",
   "execution_count": 309,
   "metadata": {},
   "outputs": [
    {
     "data": {
      "image/png": "[encoded data removed]",
      "text/plain": [
       "<Figure size 432x288 with 1 Axes>"
      ]
     },
     "metadata": {},
     "output_type": "display_data"
    }
   ],
   "source": [
    "for num in range(7):\n",
    "    plt.scatter(NumX_train.iloc[(ms_pred==num),0],NumX_train.iloc[(ms_pred==num),1], label=num)\n",
    "plt.legend()\n",
    "plt.title('Meanshift Clustering')\n",
    "plt.xlabel('Recipe Time')\n",
    "plt.ylabel('Number of Reviews')\n",
    "plt.show()"
   ]
  },
  {
   "cell_type": "code",
   "execution_count": 163,
   "metadata": {},
   "outputs": [
    {
     "name": "stdout",
     "output_type": "stream",
     "text": [
      "-------------------- \n",
      " Time v Reviews \n",
      "\n",
      "0 DAVID TANIS             16\n",
      "SAM SIFTON              15\n",
      "FLORENCE FABRICANT      14\n",
      "SAMANTHA SENEVIRATNE    12\n",
      "MARK BITTMAN            11\n",
      "Name: Author, dtype: int64 \n",
      "\n",
      "Time        37.935185\n",
      "Reviews    203.268519\n",
      "dtype: float64 \n",
      "\n",
      "Percentage of Reviews by Time 0.19\n",
      "1 SAMANTHA SENEVIRATNE    6\n",
      "JULIA MOSKIN            4\n",
      "MELISSA CLARK           4\n",
      "MARTHA ROSE SHULMAN     4\n",
      "DAVID TANIS             3\n",
      "Name: Author, dtype: int64 \n",
      "\n",
      "Time        94.333333\n",
      "Reviews    177.066667\n",
      "dtype: float64 \n",
      "\n",
      "Percentage of Reviews by Time 0.53\n",
      "2 MARIAN BURROS    2\n",
      "MARK BITTMAN     1\n",
      "JULIA MOSKIN     1\n",
      "Name: Author, dtype: int64 \n",
      "\n",
      "Time         22.5\n",
      "Reviews    2170.0\n",
      "dtype: float64 \n",
      "\n",
      "Percentage of Reviews by Time 0.01\n",
      "3 DAVID TANIS      1\n",
      "JULIA MOSKIN     1\n",
      "MARIAN BURROS    1\n",
      "Name: Author, dtype: int64 \n",
      "\n",
      "Time       180.000000\n",
      "Reviews    175.333333\n",
      "dtype: float64 \n",
      "\n",
      "Percentage of Reviews by Time 1.03\n",
      "4 MARIAN BURROS          2\n",
      "MARTHA ROSE SHULMAN    2\n",
      "JULIA MOSKIN           1\n",
      "KIM SEVERSON           1\n",
      "MELISSA CLARK          1\n",
      "Name: Author, dtype: int64 \n",
      "\n",
      "Time        83.571429\n",
      "Reviews    965.000000\n",
      "dtype: float64 \n",
      "\n",
      "Percentage of Reviews by Time 0.09\n",
      "5 JULIA MOSKIN    1\n",
      "Name: Author, dtype: int64 \n",
      "\n",
      "Time        120.0\n",
      "Reviews    2123.0\n",
      "dtype: float64 \n",
      "\n",
      "Percentage of Reviews by Time 0.06\n",
      "6 MARIAN BURROS    1\n",
      "Name: Author, dtype: int64 \n",
      "\n",
      "Time         75.0\n",
      "Reviews    2851.0\n",
      "dtype: float64 \n",
      "\n",
      "Percentage of Reviews by Time 0.03\n"
     ]
    }
   ],
   "source": [
    "print('--------------------','\\n','Time v Reviews','\\n')\n",
    "for num in range(7):\n",
    "    print(num, recipes_train.loc[(ms_pred == num), 'Author'].value_counts().head(5), '\\n')\n",
    "    print(recipes_train.loc[(ms_pred == num), ['Time', 'Reviews',]].mean(), '\\n')\n",
    "    print('Percentage of Reviews by Time {0:.2f}'.format((recipes_train.loc[(ms_pred == num), ['Time']].mean())[0]/\n",
    "                                                   recipes_train.loc[(ms_pred == num), ['Reviews']].mean()[0]))"
   ]
  },
  {
   "cell_type": "code",
   "execution_count": 167,
   "metadata": {},
   "outputs": [
    {
     "name": "stderr",
     "output_type": "stream",
     "text": [
      "/Library/Frameworks/Python.framework/Versions/3.6/lib/python3.6/site-packages/ipykernel_launcher.py:4: SettingWithCopyWarning: \n",
      "A value is trying to be set on a copy of a slice from a DataFrame.\n",
      "Try using .loc[row_indexer,col_indexer] = value instead\n",
      "\n",
      "See the caveats in the documentation: http://pandas.pydata.org/pandas-docs/stable/indexing.html#indexing-view-versus-copy\n",
      "  after removing the cwd from sys.path.\n"
     ]
    }
   ],
   "source": [
    "#Try KMeans Cluster\n",
    "km = KMeans(n_clusters=7)\n",
    "y_pred = km.fit_predict(recipes_num_normal)\n",
    "recipes_train['KMeans'] = y_pred"
   ]
  },
  {
   "cell_type": "code",
   "execution_count": 169,
   "metadata": {},
   "outputs": [
    {
     "name": "stdout",
     "output_type": "stream",
     "text": [
      "-------------------- \n",
      " Time v Reviews \n",
      "\n",
      "0 JULIA MOSKIN           3\n",
      "SAM SIFTON             3\n",
      "MARK BITTMAN           3\n",
      "MARTHA ROSE SHULMAN    3\n",
      "DAVID TANIS            2\n",
      "Name: Author, dtype: int64 \n",
      "\n",
      "Time        40.238095\n",
      "Reviews    605.857143\n",
      "dtype: float64 \n",
      "\n",
      "Percentage of Reviews by Time 0.07\n",
      "1 MARIAN BURROS          2\n",
      "JULIA MOSKIN           1\n",
      "KIM SEVERSON           1\n",
      "MARTHA ROSE SHULMAN    1\n",
      "Name: Author, dtype: int64 \n",
      "\n",
      "Time        105.0\n",
      "Reviews    1329.0\n",
      "dtype: float64 \n",
      "\n",
      "Percentage of Reviews by Time 0.08\n",
      "2 SAMANTHA SENEVIRATNE    5\n",
      "JULIA MOSKIN            4\n",
      "MELISSA CLARK           4\n",
      "MARTHA ROSE SHULMAN     4\n",
      "DAVID TANIS             3\n",
      "Name: Author, dtype: int64 \n",
      "\n",
      "Time        95.172414\n",
      "Reviews    172.896552\n",
      "dtype: float64 \n",
      "\n",
      "Percentage of Reviews by Time 0.55\n",
      "3 MARIAN BURROS    3\n",
      "MARK BITTMAN     1\n",
      "JULIA MOSKIN     1\n",
      "Name: Author, dtype: int64 \n",
      "\n",
      "Time         33.0\n",
      "Reviews    2306.2\n",
      "dtype: float64 \n",
      "\n",
      "Percentage of Reviews by Time 0.01\n",
      "4 DAVID TANIS      1\n",
      "JULIA MOSKIN     1\n",
      "MARIAN BURROS    1\n",
      "Name: Author, dtype: int64 \n",
      "\n",
      "Time       180.000000\n",
      "Reviews    175.333333\n",
      "dtype: float64 \n",
      "\n",
      "Percentage of Reviews by Time 1.03\n",
      "5 SAMANTHA SENEVIRATNE    11\n",
      "DAVID TANIS              8\n",
      "MARK BITTMAN             7\n",
      "MARTHA ROSE SHULMAN      7\n",
      "SAM SIFTON               5\n",
      "Name: Author, dtype: int64 \n",
      "\n",
      "Time        51.9\n",
      "Reviews    146.2\n",
      "dtype: float64 \n",
      "\n",
      "Percentage of Reviews by Time 0.35\n",
      "6 FLORENCE FABRICANT    9\n",
      "SAM SIFTON            7\n",
      "DAVID TANIS           6\n",
      "MELISSA CLARK         6\n",
      "MARIAN BURROS         4\n",
      "Name: Author, dtype: int64 \n",
      "\n",
      "Time        22.121951\n",
      "Reviews    108.560976\n",
      "dtype: float64 \n",
      "\n",
      "Percentage of Reviews by Time 0.20\n"
     ]
    }
   ],
   "source": [
    "print('--------------------','\\n','Time v Reviews','\\n')\n",
    "for num in range(7):\n",
    "    print(num, recipes_train.loc[(y_pred == num), 'Author'].value_counts().head(5), '\\n')\n",
    "    print(recipes_train.loc[(y_pred == num), ['Time', 'Reviews',]].mean(), '\\n')\n",
    "    print('Percentage of Reviews by Time {0:.2f}'.format((recipes_train.loc[(y_pred == num), ['Time']].mean())[0]/\n",
    "                                                   recipes_train.loc[(y_pred == num), ['Reviews']].mean()[0]))\n",
    "    "
   ]
  },
  {
   "cell_type": "code",
   "execution_count": 269,
   "metadata": {},
   "outputs": [
    {
     "name": "stderr",
     "output_type": "stream",
     "text": [
      "/Library/Frameworks/Python.framework/Versions/3.6/lib/python3.6/site-packages/ipykernel_launcher.py:3: SettingWithCopyWarning: \n",
      "A value is trying to be set on a copy of a slice from a DataFrame.\n",
      "Try using .loc[row_indexer,col_indexer] = value instead\n",
      "\n",
      "See the caveats in the documentation: http://pandas.pydata.org/pandas-docs/stable/indexing.html#indexing-view-versus-copy\n",
      "  This is separate from the ipykernel package so we can avoid doing imports until\n"
     ]
    }
   ],
   "source": [
    "sc = SpectralClustering(n_clusters=5)\n",
    "sc_pred = sc.fit_predict(recipes_num_normal)\n",
    "recipes_train['Spectral'] = sc_pred"
   ]
  },
  {
   "cell_type": "code",
   "execution_count": 200,
   "metadata": {},
   "outputs": [
    {
     "name": "stdout",
     "output_type": "stream",
     "text": [
      "-------------------- \n",
      " Time v Reviews \n",
      "\n",
      "0 FLORENCE FABRICANT      12\n",
      "DAVID TANIS             12\n",
      "MELISSA CLARK            8\n",
      "SAM SIFTON               8\n",
      "SAMANTHA SENEVIRATNE     8\n",
      "Name: Author, dtype: int64 \n",
      "\n",
      "Time        30.693333\n",
      "Reviews    158.320000\n",
      "dtype: float64 \n",
      "\n",
      "Percentage of Reviews by Time 0.19 \n",
      "\n",
      "1 SAMANTHA SENEVIRATNE    5\n",
      "MELISSA CLARK           4\n",
      "MARTHA ROSE SHULMAN     4\n",
      "DAVID TANIS             3\n",
      "JULIA MOSKIN            3\n",
      "Name: Author, dtype: int64 \n",
      "\n",
      "Time        95.892857\n",
      "Reviews    161.107143\n",
      "dtype: float64 \n",
      "\n",
      "Percentage of Reviews by Time 0.60 \n",
      "\n",
      "2 SAM SIFTON              6\n",
      "MARK BITTMAN            5\n",
      "SAMANTHA SENEVIRATNE    5\n",
      "DAVID TANIS             4\n",
      "JULIA MOSKIN            3\n",
      "Name: Author, dtype: int64 \n",
      "\n",
      "Time        60.178571\n",
      "Reviews    191.142857\n",
      "dtype: float64 \n",
      "\n",
      "Percentage of Reviews by Time 0.31 \n",
      "\n",
      "3 DAVID TANIS      1\n",
      "JULIA MOSKIN     1\n",
      "MARIAN BURROS    1\n",
      "Name: Author, dtype: int64 \n",
      "\n",
      "Time       180.000000\n",
      "Reviews    175.333333\n",
      "dtype: float64 \n",
      "\n",
      "Percentage of Reviews by Time 1.03 \n",
      "\n",
      "4 MARIAN BURROS          7\n",
      "JULIA MOSKIN           4\n",
      "MARTHA ROSE SHULMAN    3\n",
      "MARK BITTMAN           2\n",
      "MELISSA CLARK          2\n",
      "Name: Author, dtype: int64 \n",
      "\n",
      "Time         56.25\n",
      "Reviews    1296.85\n",
      "dtype: float64 \n",
      "\n",
      "Percentage of Reviews by Time 0.04 \n",
      "\n"
     ]
    }
   ],
   "source": [
    "print('--------------------','\\n','Time v Reviews','\\n')\n",
    "for num in range(5):\n",
    "    print(num, recipes_train.loc[(sc_pred == num), 'Author'].value_counts().head(5), '\\n')\n",
    "    print(recipes_train.loc[(sc_pred == num), ['Time', 'Reviews',]].mean(), '\\n')\n",
    "    print('Percentage of Reviews by Time {0:.2f}'.format((recipes_train.loc[(sc_pred == num), ['Time']].mean())[0]/\n",
    "                                                   recipes_train.loc[(sc_pred == num), ['Reviews']].mean()[0]),'\\n')\n",
    "    "
   ]
  },
  {
   "cell_type": "code",
   "execution_count": 201,
   "metadata": {},
   "outputs": [
    {
     "data": {
      "image/png": "[encoded data removed]",
      "text/plain": [
       "<Figure size 432x288 with 1 Axes>"
      ]
     },
     "metadata": {},
     "output_type": "display_data"
    }
   ],
   "source": [
    "for num in range(5):\n",
    "    plt.scatter(NumX_train.iloc[(sc_pred==num),0],NumX_train.iloc[(sc_pred==num),1], label=num)\n",
    "plt.legend()\n",
    "plt.title('Spectral Clustering')\n",
    "plt.xlabel('Recipe Time')\n",
    "plt.ylabel('Number of Reviews')\n",
    "plt.show()"
   ]
  },
  {
   "cell_type": "code",
   "execution_count": 199,
   "metadata": {},
   "outputs": [
    {
     "name": "stdout",
     "output_type": "stream",
     "text": [
      "2 4     Asparagus Frittata With Burrata and Herb Pesto\n",
      "8                                       Pumpkin Flan\n",
      "13                                  Potato Cavatelli\n",
      "15       Seared Scallops With Hot Sauce Beurre Blanc\n",
      "32                  Lemon Risotto with Summer Squash\n",
      "Name: Title, dtype: object \n",
      "\n",
      "3 30           Roasted Portobellos With Pesto\n",
      "59                  Sticky Bun Monkey Bread\n",
      "60    Giant Crinkled Chocolate Chip Cookies\n",
      "Name: Title, dtype: object \n",
      "\n",
      "4 6             Lemon Meringue Tart\n",
      "17          Avocado-Cucumber Soup\n",
      "18             Green Tomato Salad\n",
      "23    Green Chilaquiles With Eggs\n",
      "29              Peach 'Doughnuts'\n",
      "Name: Title, dtype: object \n",
      "\n"
     ]
    }
   ],
   "source": [
    "for num in [2,3,4]:\n",
    "    print(num, recipes.iloc[(sc_pred==num),1].head(5), '\\n')"
   ]
  },
  {
   "cell_type": "code",
   "execution_count": 184,
   "metadata": {},
   "outputs": [
    {
     "name": "stderr",
     "output_type": "stream",
     "text": [
      "/Library/Frameworks/Python.framework/Versions/3.6/lib/python3.6/site-packages/ipykernel_launcher.py:3: SettingWithCopyWarning: \n",
      "A value is trying to be set on a copy of a slice from a DataFrame.\n",
      "Try using .loc[row_indexer,col_indexer] = value instead\n",
      "\n",
      "See the caveats in the documentation: http://pandas.pydata.org/pandas-docs/stable/indexing.html#indexing-view-versus-copy\n",
      "  This is separate from the ipykernel package so we can avoid doing imports until\n"
     ]
    },
    {
     "data": {
      "image/png": "[encoded data removed]",
      "text/plain": [
       "<Figure size 432x288 with 1 Axes>"
      ]
     },
     "metadata": {},
     "output_type": "display_data"
    }
   ],
   "source": [
    "af = AffinityPropagation()\n",
    "af_pred = af.fit_predict(recipes_num_normal)\n",
    "recipes_train['Affinity'] = af_pred\n",
    "\n",
    "for num in range(len(af.cluster_centers_indices_)):\n",
    "    plt.scatter(NumX_train.iloc[(af_pred==num),0],NumX_train.iloc[(af_pred==num),1], label=num)\n",
    "plt.legend()\n",
    "plt.title('Affinity Propagation')\n",
    "plt.xlabel('Recipe Time')\n",
    "plt.ylabel('Number of Reviews')\n",
    "plt.show()"
   ]
  },
  {
   "cell_type": "code",
   "execution_count": 121,
   "metadata": {},
   "outputs": [
    {
     "data": {
      "text/plain": [
       "<matplotlib.collections.PathCollection at 0x12ce854e0>"
      ]
     },
     "execution_count": 121,
     "metadata": {},
     "output_type": "execute_result"
    },
    {
     "data": {
      "image/png": "[encoded data removed]",
      "text/plain": [
       "<Figure size 432x288 with 1 Axes>"
      ]
     },
     "metadata": {},
     "output_type": "display_data"
    }
   ],
   "source": [
    "#Clustering on subset of data without Null values including nutriontional info\n",
    "Nutr_num = recipes_nutr.iloc[:,7:-1]\n",
    "ss_num = StandardScaler()\n",
    "Nutr_norm = ss_num.fit_transform(Nutr_num)\n",
    "\n",
    "pca_nut = PCA(n_components=2)\n",
    "pca_nutrition = pca_nut.fit_transform(Nutr_norm)\n",
    "\n",
    "plt.scatter(pca_nutrition[:,0],pca_nutrition[:,1], )"
   ]
  },
  {
   "cell_type": "code",
   "execution_count": 260,
   "metadata": {},
   "outputs": [
    {
     "name": "stderr",
     "output_type": "stream",
     "text": [
      "/Library/Frameworks/Python.framework/Versions/3.6/lib/python3.6/site-packages/ipykernel_launcher.py:3: SettingWithCopyWarning: \n",
      "A value is trying to be set on a copy of a slice from a DataFrame.\n",
      "Try using .loc[row_indexer,col_indexer] = value instead\n",
      "\n",
      "See the caveats in the documentation: http://pandas.pydata.org/pandas-docs/stable/indexing.html#indexing-view-versus-copy\n",
      "  This is separate from the ipykernel package so we can avoid doing imports until\n"
     ]
    }
   ],
   "source": [
    "sc_nutr = SpectralClustering(n_clusters=5)\n",
    "sc_nutr_pred = sc_nutr.fit_predict(pca_nutrition)\n",
    "recipes_nutr['Spectral_Nutritional'] = sc_nutr_pred"
   ]
  },
  {
   "cell_type": "code",
   "execution_count": 261,
   "metadata": {},
   "outputs": [
    {
     "data": {
      "image/png": "[encoded data removed]",
      "text/plain": [
       "<Figure size 432x288 with 1 Axes>"
      ]
     },
     "metadata": {},
     "output_type": "display_data"
    }
   ],
   "source": [
    "for num in range(5):\n",
    "    plt.scatter(recipes_nutr.iloc[(sc_nutr_pred==num),3],recipes_nutr.iloc[(sc_nutr_pred==num),7], label=num)\n",
    "plt.legend()\n",
    "plt.title('Spectral Clustering with Nutritional Information')\n",
    "plt.xlabel('Recipe Time')\n",
    "plt.ylabel('Number of Reviews')\n",
    "plt.show()"
   ]
  },
  {
   "cell_type": "code",
   "execution_count": 264,
   "metadata": {},
   "outputs": [
    {
     "name": "stdout",
     "output_type": "stream",
     "text": [
      "-------------------- \n",
      " Breakdown of Clusters \n",
      "\n",
      "0 \n",
      " 21 \n",
      "\n",
      "Carbs      67.476190\n",
      "Fat        40.761905\n",
      "Protein    25.619048\n",
      "dtype: float64 \n",
      "\n",
      "1 \n",
      " 40 \n",
      "\n",
      "Carbs      16.275\n",
      "Fat         8.750\n",
      "Protein     5.825\n",
      "dtype: float64 \n",
      "\n",
      "2 \n",
      " 31 \n",
      "\n",
      "Carbs      62.516129\n",
      "Fat        17.741935\n",
      "Protein    12.258065\n",
      "dtype: float64 \n",
      "\n",
      "3 \n",
      " 17 \n",
      "\n",
      "Carbs      44.117647\n",
      "Fat        10.764706\n",
      "Protein     5.058824\n",
      "dtype: float64 \n",
      "\n",
      "4 \n",
      " 18 \n",
      "\n",
      "Carbs      18.611111\n",
      "Fat        28.666667\n",
      "Protein    15.444444\n",
      "dtype: float64 \n",
      "\n"
     ]
    }
   ],
   "source": [
    "print('--------------------','\\n','Breakdown of Clusters','\\n')\n",
    "for num in range(5):\n",
    "    print(num,'\\n', len(recipes_nutr.loc[(sc_nutr_pred == num),:]),'\\n')\n",
    "    print(recipes_nutr.loc[(sc_nutr_pred == num), ['Carbs','Fat','Protein']].mean(), '\\n')\n"
   ]
  },
  {
   "cell_type": "code",
   "execution_count": 304,
   "metadata": {},
   "outputs": [],
   "source": [
    "#Run on testing set to identifying similar groupings\n",
    "ss_test = StandardScaler()\n",
    "recipes_num_ntest = ss_test.fit_transform(NumX_test)\n",
    "\n",
    "ms_test_pred = ms.predict(recipes_num_ntest)\n",
    "recipes_test['Meanshift_Test'] = ms_test_pred"
   ]
  },
  {
   "cell_type": "code",
   "execution_count": 313,
   "metadata": {},
   "outputs": [
    {
     "data": {
      "image/png": "[encoded data removed]",
      "text/plain": [
       "<Figure size 432x288 with 1 Axes>"
      ]
     },
     "metadata": {},
     "output_type": "display_data"
    }
   ],
   "source": [
    "for num in range(5):\n",
    "    plt.scatter(recipes_test.iloc[(ms_test_pred==num),3],recipes_nutr.iloc[(ms_test_pred==num),7], label=num)\n",
    "plt.legend()\n",
    "plt.title('Meanshift Clustering Test')\n",
    "plt.xlabel('Recipe Time')\n",
    "plt.xlim([0, 200])\n",
    "plt.ylabel('Number of Reviews')\n",
    "plt.ylim([0,3000])\n",
    "plt.show()"
   ]
  },
  {
   "cell_type": "markdown",
   "metadata": {},
   "source": [
    "# Breaking Down Text Data\n",
    "## Bag of Words Feature Generation"
   ]
  },
  {
   "cell_type": "code",
   "execution_count": 317,
   "metadata": {},
   "outputs": [],
   "source": [
    "#Function to process data\n",
    "nlp = spacy.load('en')\n",
    "\n",
    "def bag_of_words(text):\n",
    "    \n",
    "    # Filter out punctuation and stop words.\n",
    "    allwords = [token.lemma_\n",
    "                for token in text\n",
    "                if not token.is_punct\n",
    "                and not token.is_stop]\n",
    "    \n",
    "    # Return the most common words.\n",
    "    return [item[0] for item in Counter(allwords).most_common(20)]\n",
    "\n",
    "def process_text(df_line):\n",
    "    #Break dataframe line into useable segments\n",
    "    recipe_number = df_line[0]\n",
    "    recipe_title = df_line[1]\n",
    "    recipe_author = df_line[2]\n",
    "    recipe_time = df_line[3]\n",
    "    recipe_summary = df_line[4]\n",
    "    recipe_instr = df_line[5]\n",
    "    recipe_reviews = df_line[6]\n",
    "    recipe_cal = df_line[7]\n",
    "    recipe_fat = df_line[8]\n",
    "    recipe_carb = df_line[9]\n",
    "    recipe_protein = df_line[10]\n",
    "    recipe_text = df_line[11]\n",
    "    \n",
    "    #Process summary into sentences\n",
    "    summary_doc = nlp(recipe_summary)\n",
    "    summary_sent = [[recipe_number, recipe_author, recipe_time, sent, recipe_reviews,\n",
    "                    recipe_cal, recipe_fat,recipe_carb, recipe_protein] \n",
    "                    for sent in summary_doc.sents]\n",
    "    \n",
    "    #Process full text into sentences\n",
    "    text_doc = nlp(recipe_text)\n",
    "    text_sent = [[recipe_number, recipe_author, recipe_time, recipe_reviews,\n",
    "                    recipe_cal, recipe_fat,recipe_carb, recipe_protein, sent] \n",
    "                    for sent in text_doc.sents]\n",
    "    \n",
    "    \n",
    "    #Create new dataframe with those sentences\n",
    "    df = pd.DataFrame(summary_sent)\n",
    "    df1 = pd.DataFrame(text_sent)\n",
    "    #Add column names back\n",
    "    df.columns = ['Recipe_Num','Author','Time','Sent','Reviews','Calories','Fat',\n",
    "                 'Carbs','Protein']\n",
    "    df1.columns = ['Recipe_Num','Author','Time','Reviews','Calories','Fat',\n",
    "                 'Carbs','Protein','Text']\n",
    "    return df, df1"
   ]
  },
  {
   "cell_type": "code",
   "execution_count": 318,
   "metadata": {},
   "outputs": [],
   "source": [
    "#Create complete dataframe with all the sentences\n",
    "df_exist = pd.DataFrame()\n",
    "\n",
    "for ind in range(len(recipes)):\n",
    "    line = recipes.iloc[ind,:]\n",
    "    df_new_s, df_new_t = process_text(line)\n",
    "    df_exist = pd.concat([df_new_t, df_exist])\n",
    "\n",
    "recipes_sents = df_exist.reset_index().drop(columns=['index'])"
   ]
  },
  {
   "cell_type": "code",
   "execution_count": 320,
   "metadata": {},
   "outputs": [],
   "source": [
    "recipes_sents = recipes_sents.drop(columns=['Calories','Fat','Carbs','Protein'])"
   ]
  },
  {
   "cell_type": "code",
   "execution_count": 323,
   "metadata": {},
   "outputs": [
    {
     "data": {
      "text/html": [
       "<div>\n",
       "<style scoped>\n",
       "    .dataframe tbody tr th:only-of-type {\n",
       "        vertical-align: middle;\n",
       "    }\n",
       "\n",
       "    .dataframe tbody tr th {\n",
       "        vertical-align: top;\n",
       "    }\n",
       "\n",
       "    .dataframe thead th {\n",
       "        text-align: right;\n",
       "    }\n",
       "</style>\n",
       "<table border=\"1\" class=\"dataframe\">\n",
       "  <thead>\n",
       "    <tr style=\"text-align: right;\">\n",
       "      <th></th>\n",
       "      <th>Recipe_Num</th>\n",
       "      <th>Author</th>\n",
       "      <th>Time</th>\n",
       "      <th>Reviews</th>\n",
       "      <th>Text</th>\n",
       "    </tr>\n",
       "  </thead>\n",
       "  <tbody>\n",
       "    <tr>\n",
       "      <th>0</th>\n",
       "      <td>192</td>\n",
       "      <td>MARIAN BURROS</td>\n",
       "      <td>90</td>\n",
       "      <td>142</td>\n",
       "      <td>(Some, cheesecakes, are, the, culinary, equiva...</td>\n",
       "    </tr>\n",
       "    <tr>\n",
       "      <th>1</th>\n",
       "      <td>192</td>\n",
       "      <td>MARIAN BURROS</td>\n",
       "      <td>90</td>\n",
       "      <td>142</td>\n",
       "      <td>(This, one, ,, first, published, in, The, Time...</td>\n",
       "    </tr>\n",
       "    <tr>\n",
       "      <th>2</th>\n",
       "      <td>192</td>\n",
       "      <td>MARIAN BURROS</td>\n",
       "      <td>90</td>\n",
       "      <td>142</td>\n",
       "      <td>(It, 's, lightly, -, sweet, ,, slightly, tangy...</td>\n",
       "    </tr>\n",
       "    <tr>\n",
       "      <th>3</th>\n",
       "      <td>192</td>\n",
       "      <td>MARIAN BURROS</td>\n",
       "      <td>90</td>\n",
       "      <td>142</td>\n",
       "      <td>(The, texture, is, surprisingly, airy, .)</td>\n",
       "    </tr>\n",
       "    <tr>\n",
       "      <th>4</th>\n",
       "      <td>192</td>\n",
       "      <td>MARIAN BURROS</td>\n",
       "      <td>90</td>\n",
       "      <td>142</td>\n",
       "      <td>(Serve, slices, with, a, dollop, of, whipped, ...</td>\n",
       "    </tr>\n",
       "  </tbody>\n",
       "</table>\n",
       "</div>"
      ],
      "text/plain": [
       "   Recipe_Num         Author  Time  Reviews  \\\n",
       "0         192  MARIAN BURROS    90      142   \n",
       "1         192  MARIAN BURROS    90      142   \n",
       "2         192  MARIAN BURROS    90      142   \n",
       "3         192  MARIAN BURROS    90      142   \n",
       "4         192  MARIAN BURROS    90      142   \n",
       "\n",
       "                                                Text  \n",
       "0  (Some, cheesecakes, are, the, culinary, equiva...  \n",
       "1  (This, one, ,, first, published, in, The, Time...  \n",
       "2  (It, 's, lightly, -, sweet, ,, slightly, tangy...  \n",
       "3          (The, texture, is, surprisingly, airy, .)  \n",
       "4  (Serve, slices, with, a, dollop, of, whipped, ...  "
      ]
     },
     "execution_count": 323,
     "metadata": {},
     "output_type": "execute_result"
    }
   ],
   "source": [
    "recipes_sents.head()"
   ]
  },
  {
   "cell_type": "code",
   "execution_count": 324,
   "metadata": {},
   "outputs": [],
   "source": [
    "def bow_df(df, df_sents):\n",
    "    common_words = []\n",
    "    for ind in range(len(df)):\n",
    "        text = df.Summary[ind]\n",
    "        text_doc = nlp(text)\n",
    "        bow_add = bag_of_words(text_doc)\n",
    "        common_words = list(set(common_words+bow_add))\n",
    "    \n",
    "    #Initialize df and set word counts to zero\n",
    "    count_df = pd.DataFrame(columns=common_words)\n",
    "    count_df['Recipe_Num'] = df_sents.iloc[:,0]\n",
    "    count_df['Author'] = df_sents.iloc[:,1]\n",
    "    count_df['Time'] = df_sents.iloc[:,2]\n",
    "    count_df['Reviews'] = df_sents.iloc[:,3]\n",
    "    count_df['Sents'] = df_sents.iloc[:,4]\n",
    "    count_df.loc[:, common_words] = 0\n",
    "    \n",
    "    #Process each word and the occurance of each word in each row\n",
    "    for i, sentence in enumerate(count_df['Sents']):\n",
    "        \n",
    "        #Find common words while filtering out stop words and punctuation\n",
    "        words = [token.lemma_\n",
    "                 for token in sentence\n",
    "                 if (\n",
    "                     not token.is_punct\n",
    "                     and not token.is_stop\n",
    "                     and token.lemma_ in common_words\n",
    "                 )]\n",
    "        for word in words:\n",
    "            count_df.loc[i, word] += 1\n",
    "            \n",
    "        #Keep counter to make sure it doesn't hang\n",
    "        if i % 200 == 0:\n",
    "            print(\"Processing row {}\".format(i))\n",
    "    \n",
    "    return count_df"
   ]
  },
  {
   "cell_type": "code",
   "execution_count": 325,
   "metadata": {},
   "outputs": [
    {
     "name": "stdout",
     "output_type": "stream",
     "text": [
      "Processing row 0\n",
      "Processing row 200\n",
      "Processing row 400\n",
      "Processing row 600\n",
      "Processing row 800\n",
      "Processing row 1000\n",
      "Processing row 1200\n",
      "Processing row 1400\n",
      "Processing row 1600\n",
      "Processing row 1800\n",
      "Processing row 2000\n",
      "Processing row 2200\n",
      "Processing row 2400\n",
      "Processing row 2600\n",
      "Processing row 2800\n",
      "Processing row 3000\n",
      "Processing row 3200\n",
      "Processing row 3400\n",
      "Processing row 3600\n",
      "Processing row 3800\n"
     ]
    }
   ],
   "source": [
    "recipes_bow = bow_df(recipes, recipes_sents)"
   ]
  },
  {
   "cell_type": "code",
   "execution_count": 327,
   "metadata": {},
   "outputs": [],
   "source": [
    "#Testing Bag of Words\n",
    "X = recipes_bow.drop(columns=['Author','Sents','Recipe_Num'])\n",
    "Y = recipes_bow.Author\n",
    "X_train, X_test, y_train, y_test = train_test_split(X,Y, test_size=0.3, random_state=1334)"
   ]
  },
  {
   "cell_type": "code",
   "execution_count": 329,
   "metadata": {},
   "outputs": [],
   "source": [
    "#Testing Bag of Words\n",
    "X_time = recipes_bow.drop(columns=['Author','Sents','Recipe_Num','Time'])\n",
    "Y_time = recipes_bow.Time\n",
    "X_train_time, X_test_time, y_train_time, y_test_time = train_test_split(X_time,\n",
    "                                            Y_time, test_size=0.3, random_state=1334)"
   ]
  },
  {
   "cell_type": "code",
   "execution_count": 330,
   "metadata": {},
   "outputs": [
    {
     "name": "stdout",
     "output_type": "stream",
     "text": [
      "0.5415427880037262\n"
     ]
    }
   ],
   "source": [
    "#Testing with Random Forest Classifier\n",
    "rfc = ensemble.RandomForestClassifier(n_estimators=50)\n",
    "rfc.fit(X_train,y_train)\n",
    "rfc_bow = cross_val_score(rfc, X_train, y_train, cv=3)\n",
    "print(rfc_bow.mean())"
   ]
  },
  {
   "cell_type": "code",
   "execution_count": 334,
   "metadata": {},
   "outputs": [
    {
     "name": "stdout",
     "output_type": "stream",
     "text": [
      "0.3711052207617957\n"
     ]
    }
   ],
   "source": [
    "#Testing with Logistic Regression\n",
    "lr = LogisticRegression(C=1)\n",
    "lr.fit(X_train, y_train)\n",
    "lr_bow = cross_val_score(lr, X_train, y_train, cv=3)\n",
    "print(lr_bow.mean())"
   ]
  },
  {
   "cell_type": "markdown",
   "metadata": {},
   "source": [
    "## Tf-idf Feature Generation"
   ]
  },
  {
   "cell_type": "code",
   "execution_count": 341,
   "metadata": {},
   "outputs": [],
   "source": [
    "#Unsupervised Feature Tf-idf generator\n",
    "vectorizer = TfidfVectorizer(max_df=0.5, # drop words that occur in more than half the paragraphs\n",
    "                             min_df=2, # only use words that appear at least twice\n",
    "                             stop_words='english', \n",
    "                             lowercase=True, #convert everything to lower case (since Alice in Wonderland has the HABIT of CAPITALIZING WORDS for EMPHASIS)\n",
    "                             use_idf=True,#we definitely want to use inverse document frequencies in our weighting\n",
    "                             norm=u'l2', #Applies a correction factor so that longer paragraphs and shorter paragraphs get treated equally\n",
    "                             smooth_idf=True #Adds 1 to all document frequencies, as if an extra document existed that used every word once.  Prevents divide-by-zero errors\n",
    "                            )\n",
    "sents_tfidf = vectorizer.fit_transform(recipes_sents.Text.map(str))\n",
    "\n"
   ]
  },
  {
   "cell_type": "code",
   "execution_count": 342,
   "metadata": {},
   "outputs": [],
   "source": [
    "X_train_tfidf, X_test_tfidf, y_train_tfidf, y_test_tfidf = train_test_split(\n",
    "    sents_tfidf, recipes_sents.Author, test_size=0.3,random_state=1334)"
   ]
  },
  {
   "cell_type": "code",
   "execution_count": 347,
   "metadata": {},
   "outputs": [
    {
     "name": "stdout",
     "output_type": "stream",
     "text": [
      "0.3353915467875708\n"
     ]
    }
   ],
   "source": [
    "#Testing with Random Forest Classifier\n",
    "rfc2 = ensemble.RandomForestClassifier(n_estimators=200)\n",
    "rfc2.fit(X_train_tfidf,y_train_tfidf)\n",
    "rfc_tfidf = cross_val_score(rfc2, X_train_tfidf, y_train_tfidf, cv=3)\n",
    "print(rfc_tfidf.mean())"
   ]
  },
  {
   "cell_type": "code",
   "execution_count": 423,
   "metadata": {},
   "outputs": [
    {
     "name": "stdout",
     "output_type": "stream",
     "text": [
      "0.3389869645617385\n"
     ]
    }
   ],
   "source": [
    "#Testing with Logistic Regression\n",
    "lr2 = LogisticRegression(C=1)\n",
    "lr2.fit(X_train_tfidf, y_train_tfidf)\n",
    "lr_tfidf = cross_val_score(lr2, X_train_tfidf, y_train_tfidf, cv=3)\n",
    "print(lr_tfidf.mean())"
   ]
  },
  {
   "cell_type": "code",
   "execution_count": 400,
   "metadata": {},
   "outputs": [
    {
     "name": "stdout",
     "output_type": "stream",
     "text": [
      "Number of estimated clusters: 5\n"
     ]
    }
   ],
   "source": [
    "#PCA to reduce components\n",
    "pca = PCA(n_components=2)\n",
    "sents_pca = pca.fit_transform(sents_tfidf.todense())\n",
    "    \n",
    "#Cluster reduced data\n",
    "bandwidth_2 = estimate_bandwidth(sents_pca)\n",
    "ms_2 = MeanShift(bandwidth=bandwidth_2, bin_seeding=True)\n",
    "ms_2.fit(sents_pca)\n",
    "labels_2 = ms_2.labels_\n",
    "n_clusters_2 = len(np.unique(labels_2))\n",
    "\n",
    "print(\"Number of estimated clusters: {}\".format(n_clusters_2))"
   ]
  },
  {
   "cell_type": "code",
   "execution_count": 404,
   "metadata": {},
   "outputs": [],
   "source": [
    "recipes_sents['Meanshift'] = labels_2"
   ]
  },
  {
   "cell_type": "code",
   "execution_count": 362,
   "metadata": {},
   "outputs": [
    {
     "data": {
      "text/html": [
       "<div>\n",
       "<style scoped>\n",
       "    .dataframe tbody tr th:only-of-type {\n",
       "        vertical-align: middle;\n",
       "    }\n",
       "\n",
       "    .dataframe tbody tr th {\n",
       "        vertical-align: top;\n",
       "    }\n",
       "\n",
       "    .dataframe thead th {\n",
       "        text-align: right;\n",
       "    }\n",
       "</style>\n",
       "<table border=\"1\" class=\"dataframe\">\n",
       "  <thead>\n",
       "    <tr style=\"text-align: right;\">\n",
       "      <th>Author</th>\n",
       "      <th>DAVID TANIS</th>\n",
       "      <th>FLORENCE FABRICANT</th>\n",
       "      <th>JULIA MOSKIN</th>\n",
       "      <th>KIM SEVERSON</th>\n",
       "      <th>MARIAN BURROS</th>\n",
       "      <th>MARK BITTMAN</th>\n",
       "      <th>MARTHA ROSE SHULMAN</th>\n",
       "      <th>MELISSA CLARK</th>\n",
       "      <th>SAM SIFTON</th>\n",
       "      <th>SAMANTHA SENEVIRATNE</th>\n",
       "    </tr>\n",
       "    <tr>\n",
       "      <th>row_0</th>\n",
       "      <th></th>\n",
       "      <th></th>\n",
       "      <th></th>\n",
       "      <th></th>\n",
       "      <th></th>\n",
       "      <th></th>\n",
       "      <th></th>\n",
       "      <th></th>\n",
       "      <th></th>\n",
       "      <th></th>\n",
       "    </tr>\n",
       "  </thead>\n",
       "  <tbody>\n",
       "    <tr>\n",
       "      <th>0</th>\n",
       "      <td>422</td>\n",
       "      <td>317</td>\n",
       "      <td>457</td>\n",
       "      <td>325</td>\n",
       "      <td>211</td>\n",
       "      <td>224</td>\n",
       "      <td>393</td>\n",
       "      <td>370</td>\n",
       "      <td>352</td>\n",
       "      <td>432</td>\n",
       "    </tr>\n",
       "    <tr>\n",
       "      <th>1</th>\n",
       "      <td>14</td>\n",
       "      <td>21</td>\n",
       "      <td>23</td>\n",
       "      <td>13</td>\n",
       "      <td>10</td>\n",
       "      <td>9</td>\n",
       "      <td>30</td>\n",
       "      <td>11</td>\n",
       "      <td>14</td>\n",
       "      <td>11</td>\n",
       "    </tr>\n",
       "    <tr>\n",
       "      <th>2</th>\n",
       "      <td>3</td>\n",
       "      <td>3</td>\n",
       "      <td>4</td>\n",
       "      <td>4</td>\n",
       "      <td>3</td>\n",
       "      <td>2</td>\n",
       "      <td>1</td>\n",
       "      <td>2</td>\n",
       "      <td>0</td>\n",
       "      <td>11</td>\n",
       "    </tr>\n",
       "    <tr>\n",
       "      <th>3</th>\n",
       "      <td>13</td>\n",
       "      <td>7</td>\n",
       "      <td>2</td>\n",
       "      <td>1</td>\n",
       "      <td>1</td>\n",
       "      <td>2</td>\n",
       "      <td>10</td>\n",
       "      <td>0</td>\n",
       "      <td>5</td>\n",
       "      <td>2</td>\n",
       "    </tr>\n",
       "    <tr>\n",
       "      <th>4</th>\n",
       "      <td>26</td>\n",
       "      <td>11</td>\n",
       "      <td>27</td>\n",
       "      <td>18</td>\n",
       "      <td>5</td>\n",
       "      <td>29</td>\n",
       "      <td>33</td>\n",
       "      <td>24</td>\n",
       "      <td>26</td>\n",
       "      <td>24</td>\n",
       "    </tr>\n",
       "  </tbody>\n",
       "</table>\n",
       "</div>"
      ],
      "text/plain": [
       "Author  DAVID TANIS  FLORENCE FABRICANT  JULIA MOSKIN  KIM SEVERSON  \\\n",
       "row_0                                                                 \n",
       "0               422                 317           457           325   \n",
       "1                14                  21            23            13   \n",
       "2                 3                   3             4             4   \n",
       "3                13                   7             2             1   \n",
       "4                26                  11            27            18   \n",
       "\n",
       "Author  MARIAN BURROS  MARK BITTMAN  MARTHA ROSE SHULMAN  MELISSA CLARK  \\\n",
       "row_0                                                                     \n",
       "0                 211           224                  393            370   \n",
       "1                  10             9                   30             11   \n",
       "2                   3             2                    1              2   \n",
       "3                   1             2                   10              0   \n",
       "4                   5            29                   33             24   \n",
       "\n",
       "Author  SAM SIFTON  SAMANTHA SENEVIRATNE  \n",
       "row_0                                     \n",
       "0              352                   432  \n",
       "1               14                    11  \n",
       "2                0                    11  \n",
       "3                5                     2  \n",
       "4               26                    24  "
      ]
     },
     "execution_count": 362,
     "metadata": {},
     "output_type": "execute_result"
    }
   ],
   "source": [
    "pd.crosstab(ms_2.predict(sents_pca), recipes_sents.Author)"
   ]
  },
  {
   "cell_type": "code",
   "execution_count": 397,
   "metadata": {
    "scrolled": true
   },
   "outputs": [
    {
     "data": {
      "image/png": "[encoded data removed]",
      "text/plain": [
       "<Figure size 432x288 with 1 Axes>"
      ]
     },
     "metadata": {},
     "output_type": "display_data"
    }
   ],
   "source": [
    "for num in range(5):\n",
    "    plt.scatter(sents_pca[(labels_2==num),0],sents_pca[(labels_2==num),1], label=num)\n",
    "plt.title('PCA Applied Text Clustered')\n",
    "plt.legend()\n",
    "plt.show()"
   ]
  },
  {
   "cell_type": "code",
   "execution_count": 415,
   "metadata": {
    "scrolled": true
   },
   "outputs": [
    {
     "data": {
      "text/html": [
       "<div>\n",
       "<style scoped>\n",
       "    .dataframe tbody tr th:only-of-type {\n",
       "        vertical-align: middle;\n",
       "    }\n",
       "\n",
       "    .dataframe tbody tr th {\n",
       "        vertical-align: top;\n",
       "    }\n",
       "\n",
       "    .dataframe thead th {\n",
       "        text-align: right;\n",
       "    }\n",
       "</style>\n",
       "<table border=\"1\" class=\"dataframe\">\n",
       "  <thead>\n",
       "    <tr style=\"text-align: right;\">\n",
       "      <th></th>\n",
       "      <th>Text</th>\n",
       "    </tr>\n",
       "  </thead>\n",
       "  <tbody>\n",
       "    <tr>\n",
       "      <th>26</th>\n",
       "      <td>(Heat, oil, in, a, heavy, pan, large, enough, ...</td>\n",
       "    </tr>\n",
       "    <tr>\n",
       "      <th>35</th>\n",
       "      <td>(Season, with, salt, ,, if, desired, .)</td>\n",
       "    </tr>\n",
       "    <tr>\n",
       "      <th>56</th>\n",
       "      <td>(When, mixture, thickens, a, little, ,, remove...</td>\n",
       "    </tr>\n",
       "    <tr>\n",
       "      <th>87</th>\n",
       "      <td>(In, medium, bowl, ,, combine, 1, 1/2, cups, f...</td>\n",
       "    </tr>\n",
       "    <tr>\n",
       "      <th>221</th>\n",
       "      <td>(Add, the, flour, ,, baking, powder, ,, salt, ...</td>\n",
       "    </tr>\n",
       "    <tr>\n",
       "      <th>328</th>\n",
       "      <td>(Meanwhile, ,, heat, 3, tablespoons, oil, on, ...</td>\n",
       "    </tr>\n",
       "    <tr>\n",
       "      <th>338</th>\n",
       "      <td>(When, arugula, has, just, wilted, ,, season, ...</td>\n",
       "    </tr>\n",
       "    <tr>\n",
       "      <th>346</th>\n",
       "      <td>(Whisk, in, oil, ,, fold, in, capers, and, sea...</td>\n",
       "    </tr>\n",
       "    <tr>\n",
       "      <th>360</th>\n",
       "      <td>(Whisk, flour, with, 1/2, teaspoon, salt, .)</td>\n",
       "    </tr>\n",
       "    <tr>\n",
       "      <th>372</th>\n",
       "      <td>(Season, with, a, pinch, of, salt, and, pepper...</td>\n",
       "    </tr>\n",
       "    <tr>\n",
       "      <th>427</th>\n",
       "      <td>(Flip, fillet, and, season, top, surface, well...</td>\n",
       "    </tr>\n",
       "    <tr>\n",
       "      <th>428</th>\n",
       "      <td>(Heat, remaining, butter, on, medium, -, high,...</td>\n",
       "    </tr>\n",
       "    <tr>\n",
       "      <th>458</th>\n",
       "      <td>(While, water, is, heating, ,, melt, butter, i...</td>\n",
       "    </tr>\n",
       "    <tr>\n",
       "      <th>500</th>\n",
       "      <td>(Heat, 1, tablespoon, oil, in, a, large, (, 12...</td>\n",
       "    </tr>\n",
       "    <tr>\n",
       "      <th>507</th>\n",
       "      <td>(Fold, in, parsley, and, remaining, oil, ,, an...</td>\n",
       "    </tr>\n",
       "    <tr>\n",
       "      <th>550</th>\n",
       "      <td>(Add, orange, zest, and, salt, .)</td>\n",
       "    </tr>\n",
       "    <tr>\n",
       "      <th>592</th>\n",
       "      <td>(Heat, the, milk, in, a, medium, saucepan, ove...</td>\n",
       "    </tr>\n",
       "    <tr>\n",
       "      <th>594</th>\n",
       "      <td>(Remove, the, saucepan, from, the, heat, ,, an...</td>\n",
       "    </tr>\n",
       "    <tr>\n",
       "      <th>604</th>\n",
       "      <td>(Bring, a, large, pot, of, water, to, boil, an...</td>\n",
       "    </tr>\n",
       "    <tr>\n",
       "      <th>613</th>\n",
       "      <td>(Squeeze, a, bit, of, lemon, juice, over, the,...</td>\n",
       "    </tr>\n",
       "    <tr>\n",
       "      <th>628</th>\n",
       "      <td>(Bring, to, a, boil, 2, pots, of, water, ,, on...</td>\n",
       "    </tr>\n",
       "    <tr>\n",
       "      <th>644</th>\n",
       "      <td>(Add, lime, juice, ,, taste, ,, then, adjust, ...</td>\n",
       "    </tr>\n",
       "    <tr>\n",
       "      <th>659</th>\n",
       "      <td>(Coat, lightly, with, olive, oil, ,, and, seas...</td>\n",
       "    </tr>\n",
       "    <tr>\n",
       "      <th>676</th>\n",
       "      <td>(Put, sugar, in, a, heavy, 6-, or, 8-inch, sau...</td>\n",
       "    </tr>\n",
       "    <tr>\n",
       "      <th>678</th>\n",
       "      <td>(Turn, heat, to, low, ,, then, carefully, add,...</td>\n",
       "    </tr>\n",
       "    <tr>\n",
       "      <th>687</th>\n",
       "      <td>(Bring, a, large, pot, of, water, to, a, boil,...</td>\n",
       "    </tr>\n",
       "    <tr>\n",
       "      <th>691</th>\n",
       "      <td>(Add, spinach, ,, noodles, ,, carrot, ,, edama...</td>\n",
       "    </tr>\n",
       "    <tr>\n",
       "      <th>698</th>\n",
       "      <td>(Taste, ,, and, add, more, vinegar, and, a, pi...</td>\n",
       "    </tr>\n",
       "    <tr>\n",
       "      <th>709</th>\n",
       "      <td>(Combine, olive, oil, ,, citrus, juice, ,, zes...</td>\n",
       "    </tr>\n",
       "    <tr>\n",
       "      <th>738</th>\n",
       "      <td>(Add, salt, ,, vinegar, and, sugar, as, needed...</td>\n",
       "    </tr>\n",
       "    <tr>\n",
       "      <th>...</th>\n",
       "      <td>...</td>\n",
       "    </tr>\n",
       "    <tr>\n",
       "      <th>3493</th>\n",
       "      <td>(Season, shrimp, with, salt, and, pepper, and,...</td>\n",
       "    </tr>\n",
       "    <tr>\n",
       "      <th>3500</th>\n",
       "      <td>(Stir, in, zucchini, and, corn, ,, and, turn, ...</td>\n",
       "    </tr>\n",
       "    <tr>\n",
       "      <th>3501</th>\n",
       "      <td>(Add, remaining, garlic, ,, cumin, and, salt, ...</td>\n",
       "    </tr>\n",
       "    <tr>\n",
       "      <th>3505</th>\n",
       "      <td>(Taste, and, adjust, seasoning, .)</td>\n",
       "    </tr>\n",
       "    <tr>\n",
       "      <th>3521</th>\n",
       "      <td>(Bring, a, pot, of, water, to, a, boil, ,, sea...</td>\n",
       "    </tr>\n",
       "    <tr>\n",
       "      <th>3534</th>\n",
       "      <td>(You, can, adjust, the, amount, of, peppers, t...</td>\n",
       "    </tr>\n",
       "    <tr>\n",
       "      <th>3536</th>\n",
       "      <td>(Place, tomatoes, in, a, large, mixing, bowl, ...</td>\n",
       "    </tr>\n",
       "    <tr>\n",
       "      <th>3545</th>\n",
       "      <td>(Combine, yogurt, ,, half, and, half, ,, salt,...</td>\n",
       "    </tr>\n",
       "    <tr>\n",
       "      <th>3560</th>\n",
       "      <td>(Arrange, the, salmon, on, the, prepared, shee...</td>\n",
       "    </tr>\n",
       "    <tr>\n",
       "      <th>3564</th>\n",
       "      <td>(Transfer, the, salmon, to, a, platter, or, on...</td>\n",
       "    </tr>\n",
       "    <tr>\n",
       "      <th>3575</th>\n",
       "      <td>(Sprinkle, one, side, with, kosher, salt, and,...</td>\n",
       "    </tr>\n",
       "    <tr>\n",
       "      <th>3594</th>\n",
       "      <td>(Adjust, salt, .)</td>\n",
       "    </tr>\n",
       "    <tr>\n",
       "      <th>3600</th>\n",
       "      <td>(Add, the, garlic, ,, sage, ,, basil, ,, black...</td>\n",
       "    </tr>\n",
       "    <tr>\n",
       "      <th>3602</th>\n",
       "      <td>(Remove, from, heat, and, pour, into, a, large...</td>\n",
       "    </tr>\n",
       "    <tr>\n",
       "      <th>3656</th>\n",
       "      <td>(In, another, bowl, ,, whisk, the, flour, with...</td>\n",
       "    </tr>\n",
       "    <tr>\n",
       "      <th>3673</th>\n",
       "      <td>(Combine, masala, ,, salt, and, tamarind, past...</td>\n",
       "    </tr>\n",
       "    <tr>\n",
       "      <th>3749</th>\n",
       "      <td>(Add, onion, ,, garlic, ,, bell, pepper, ,, ce...</td>\n",
       "    </tr>\n",
       "    <tr>\n",
       "      <th>3754</th>\n",
       "      <td>(Taste, and, adjust, the, seasonings, with, sa...</td>\n",
       "    </tr>\n",
       "    <tr>\n",
       "      <th>3802</th>\n",
       "      <td>(In, a, large, bowl, ,, sift, together, flour,...</td>\n",
       "    </tr>\n",
       "    <tr>\n",
       "      <th>3839</th>\n",
       "      <td>(Season, with, salt, and, pepper, and, cook, ,...</td>\n",
       "    </tr>\n",
       "    <tr>\n",
       "      <th>3872</th>\n",
       "      <td>(Taste, and, season, as, desired, .)</td>\n",
       "    </tr>\n",
       "    <tr>\n",
       "      <th>3885</th>\n",
       "      <td>(Taste, now, and, adjust, seasoning, .)</td>\n",
       "    </tr>\n",
       "    <tr>\n",
       "      <th>3897</th>\n",
       "      <td>(Turn, up, heat, and, add, mushrooms, .)</td>\n",
       "    </tr>\n",
       "    <tr>\n",
       "      <th>3900</th>\n",
       "      <td>(Season, mushrooms, with, salt, and, pepper, a...</td>\n",
       "    </tr>\n",
       "    <tr>\n",
       "      <th>3901</th>\n",
       "      <td>(Taste, and, adjust, seasoning, .)</td>\n",
       "    </tr>\n",
       "    <tr>\n",
       "      <th>3910</th>\n",
       "      <td>(Taste, now, and, adjust, seasoning, .)</td>\n",
       "    </tr>\n",
       "    <tr>\n",
       "      <th>3920</th>\n",
       "      <td>(They, add, a, lovely, look, to, the, finished...</td>\n",
       "    </tr>\n",
       "    <tr>\n",
       "      <th>3929</th>\n",
       "      <td>(Taste, and, ,, if, desired, ,, add, more, bul...</td>\n",
       "    </tr>\n",
       "    <tr>\n",
       "      <th>3947</th>\n",
       "      <td>(Transfer, to, a, food, processor, ,, add, 1, ...</td>\n",
       "    </tr>\n",
       "    <tr>\n",
       "      <th>3950</th>\n",
       "      <td>(PREPARE, THE, FRITTERS, :, Combine, flour, ,,...</td>\n",
       "    </tr>\n",
       "  </tbody>\n",
       "</table>\n",
       "<p>224 rows × 1 columns</p>\n",
       "</div>"
      ],
      "text/plain": [
       "                                                   Text\n",
       "26    (Heat, oil, in, a, heavy, pan, large, enough, ...\n",
       "35              (Season, with, salt, ,, if, desired, .)\n",
       "56    (When, mixture, thickens, a, little, ,, remove...\n",
       "87    (In, medium, bowl, ,, combine, 1, 1/2, cups, f...\n",
       "221   (Add, the, flour, ,, baking, powder, ,, salt, ...\n",
       "328   (Meanwhile, ,, heat, 3, tablespoons, oil, on, ...\n",
       "338   (When, arugula, has, just, wilted, ,, season, ...\n",
       "346   (Whisk, in, oil, ,, fold, in, capers, and, sea...\n",
       "360        (Whisk, flour, with, 1/2, teaspoon, salt, .)\n",
       "372   (Season, with, a, pinch, of, salt, and, pepper...\n",
       "427   (Flip, fillet, and, season, top, surface, well...\n",
       "428   (Heat, remaining, butter, on, medium, -, high,...\n",
       "458   (While, water, is, heating, ,, melt, butter, i...\n",
       "500   (Heat, 1, tablespoon, oil, in, a, large, (, 12...\n",
       "507   (Fold, in, parsley, and, remaining, oil, ,, an...\n",
       "550                   (Add, orange, zest, and, salt, .)\n",
       "592   (Heat, the, milk, in, a, medium, saucepan, ove...\n",
       "594   (Remove, the, saucepan, from, the, heat, ,, an...\n",
       "604   (Bring, a, large, pot, of, water, to, boil, an...\n",
       "613   (Squeeze, a, bit, of, lemon, juice, over, the,...\n",
       "628   (Bring, to, a, boil, 2, pots, of, water, ,, on...\n",
       "644   (Add, lime, juice, ,, taste, ,, then, adjust, ...\n",
       "659   (Coat, lightly, with, olive, oil, ,, and, seas...\n",
       "676   (Put, sugar, in, a, heavy, 6-, or, 8-inch, sau...\n",
       "678   (Turn, heat, to, low, ,, then, carefully, add,...\n",
       "687   (Bring, a, large, pot, of, water, to, a, boil,...\n",
       "691   (Add, spinach, ,, noodles, ,, carrot, ,, edama...\n",
       "698   (Taste, ,, and, add, more, vinegar, and, a, pi...\n",
       "709   (Combine, olive, oil, ,, citrus, juice, ,, zes...\n",
       "738   (Add, salt, ,, vinegar, and, sugar, as, needed...\n",
       "...                                                 ...\n",
       "3493  (Season, shrimp, with, salt, and, pepper, and,...\n",
       "3500  (Stir, in, zucchini, and, corn, ,, and, turn, ...\n",
       "3501  (Add, remaining, garlic, ,, cumin, and, salt, ...\n",
       "3505                 (Taste, and, adjust, seasoning, .)\n",
       "3521  (Bring, a, pot, of, water, to, a, boil, ,, sea...\n",
       "3534  (You, can, adjust, the, amount, of, peppers, t...\n",
       "3536  (Place, tomatoes, in, a, large, mixing, bowl, ...\n",
       "3545  (Combine, yogurt, ,, half, and, half, ,, salt,...\n",
       "3560  (Arrange, the, salmon, on, the, prepared, shee...\n",
       "3564  (Transfer, the, salmon, to, a, platter, or, on...\n",
       "3575  (Sprinkle, one, side, with, kosher, salt, and,...\n",
       "3594                                  (Adjust, salt, .)\n",
       "3600  (Add, the, garlic, ,, sage, ,, basil, ,, black...\n",
       "3602  (Remove, from, heat, and, pour, into, a, large...\n",
       "3656  (In, another, bowl, ,, whisk, the, flour, with...\n",
       "3673  (Combine, masala, ,, salt, and, tamarind, past...\n",
       "3749  (Add, onion, ,, garlic, ,, bell, pepper, ,, ce...\n",
       "3754  (Taste, and, adjust, the, seasonings, with, sa...\n",
       "3802  (In, a, large, bowl, ,, sift, together, flour,...\n",
       "3839  (Season, with, salt, and, pepper, and, cook, ,...\n",
       "3872               (Taste, and, season, as, desired, .)\n",
       "3885            (Taste, now, and, adjust, seasoning, .)\n",
       "3897           (Turn, up, heat, and, add, mushrooms, .)\n",
       "3900  (Season, mushrooms, with, salt, and, pepper, a...\n",
       "3901                 (Taste, and, adjust, seasoning, .)\n",
       "3910            (Taste, now, and, adjust, seasoning, .)\n",
       "3920  (They, add, a, lovely, look, to, the, finished...\n",
       "3929  (Taste, and, ,, if, desired, ,, add, more, bul...\n",
       "3947  (Transfer, to, a, food, processor, ,, add, 1, ...\n",
       "3950  (PREPARE, THE, FRITTERS, :, Combine, flour, ,,...\n",
       "\n",
       "[224 rows x 1 columns]"
      ]
     },
     "execution_count": 415,
     "metadata": {},
     "output_type": "execute_result"
    }
   ],
   "source": [
    "recipes_sents.loc[(recipes_sents.Meanshift == 4),['Text']]"
   ]
  },
  {
   "cell_type": "markdown",
   "metadata": {},
   "source": [
    "# Additional Modeling"
   ]
  },
  {
   "cell_type": "code",
   "execution_count": 418,
   "metadata": {},
   "outputs": [
    {
     "name": "stdout",
     "output_type": "stream",
     "text": [
      "Testing Bag of Words 0.4417079825030439\n",
      "Testing Tf-idf 0.2709061138418789\n"
     ]
    }
   ],
   "source": [
    "rfc_bow_test = cross_val_score(rfc, X_test, y_test, cv=3)\n",
    "print('Testing Bag of Words {}'.format(rfc_bow_test.mean()))\n",
    "\n",
    "lr_tfidf_test = cross_val_score(lr2, X_test_tfidf, y_test_tfidf, cv=3)\n",
    "print('Testing Tf-idf {}'.format(lr_tfidf_test.mean()))"
   ]
  },
  {
   "cell_type": "code",
   "execution_count": 426,
   "metadata": {},
   "outputs": [
    {
     "data": {
      "text/html": [
       "<div>\n",
       "<style scoped>\n",
       "    .dataframe tbody tr th:only-of-type {\n",
       "        vertical-align: middle;\n",
       "    }\n",
       "\n",
       "    .dataframe tbody tr th {\n",
       "        vertical-align: top;\n",
       "    }\n",
       "\n",
       "    .dataframe thead th {\n",
       "        text-align: right;\n",
       "    }\n",
       "</style>\n",
       "<table border=\"1\" class=\"dataframe\">\n",
       "  <thead>\n",
       "    <tr style=\"text-align: right;\">\n",
       "      <th></th>\n",
       "      <th>BoW Train</th>\n",
       "      <th>BoW Test</th>\n",
       "      <th>Tfidf Train</th>\n",
       "      <th>Tfidf Test</th>\n",
       "    </tr>\n",
       "  </thead>\n",
       "  <tbody>\n",
       "    <tr>\n",
       "      <th>0</th>\n",
       "      <td>0.530238</td>\n",
       "      <td>0.445000</td>\n",
       "      <td>0.344492</td>\n",
       "      <td>0.290000</td>\n",
       "    </tr>\n",
       "    <tr>\n",
       "      <th>1</th>\n",
       "      <td>0.533044</td>\n",
       "      <td>0.478589</td>\n",
       "      <td>0.328277</td>\n",
       "      <td>0.269521</td>\n",
       "    </tr>\n",
       "    <tr>\n",
       "      <th>2</th>\n",
       "      <td>0.561346</td>\n",
       "      <td>0.401535</td>\n",
       "      <td>0.344191</td>\n",
       "      <td>0.253197</td>\n",
       "    </tr>\n",
       "  </tbody>\n",
       "</table>\n",
       "</div>"
      ],
      "text/plain": [
       "   BoW Train  BoW Test  Tfidf Train  Tfidf Test\n",
       "0   0.530238  0.445000     0.344492    0.290000\n",
       "1   0.533044  0.478589     0.328277    0.269521\n",
       "2   0.561346  0.401535     0.344191    0.253197"
      ]
     },
     "execution_count": 426,
     "metadata": {},
     "output_type": "execute_result"
    }
   ],
   "source": [
    "df_graph = pd.DataFrame()\n",
    "df_graph['BoW Train'] = rfc_bow\n",
    "df_graph['BoW Test'] = rfc_bow_test\n",
    "df_graph['Tfidf Train'] = lr_tfidf\n",
    "df_graph['Tfidf Test'] = lr_tfidf_test"
   ]
  },
  {
   "cell_type": "code",
   "execution_count": 431,
   "metadata": {},
   "outputs": [
    {
     "data": {
      "image/png": "[encoded data removed]",
      "text/plain": [
       "<Figure size 432x288 with 1 Axes>"
      ]
     },
     "metadata": {},
     "output_type": "display_data"
    }
   ],
   "source": [
    "sns.boxplot(data=df_graph.iloc[:,[0,1]])\n",
    "plt.title('Bag of Words, Test vs Train')\n",
    "plt.ylabel('Cross Val Score')\n",
    "plt.show()"
   ]
  },
  {
   "cell_type": "code",
   "execution_count": 432,
   "metadata": {},
   "outputs": [
    {
     "data": {
      "image/png": "[encoded data removed]",
      "text/plain": [
       "<Figure size 432x288 with 1 Axes>"
      ]
     },
     "metadata": {},
     "output_type": "display_data"
    }
   ],
   "source": [
    "sns.boxplot(data=df_graph.iloc[:,[2,3]])\n",
    "plt.title('Tfidf, Test vs Train')\n",
    "plt.ylabel('Cross Val Score')\n",
    "plt.show()"
   ]
  },
  {
   "cell_type": "code",
   "execution_count": 332,
   "metadata": {},
   "outputs": [
    {
     "name": "stdout",
     "output_type": "stream",
     "text": [
      "0.8274360413931342\n"
     ]
    }
   ],
   "source": [
    "#Testing with Random Forest Regressor to predict time\n",
    "rfc_time = ensemble.RandomForestRegressor(n_estimators=50)\n",
    "rfc_time.fit(X_train_time,y_train_time)\n",
    "rfc_bow_time = cross_val_score(rfc_time, X_train_time, y_train_time, cv=3)\n",
    "print(rfc_bow_time.mean())"
   ]
  }
 ],
 "metadata": {
  "kernelspec": {
   "display_name": "Python 3",
   "language": "python",
   "name": "python3"
  },
  "language_info": {
   "codemirror_mode": {
    "name": "ipython",
    "version": 3
   },
   "file_extension": ".py",
   "mimetype": "text/x-python",
   "name": "python",
   "nbconvert_exporter": "python",
   "pygments_lexer": "ipython3",
   "version": "3.6.4"
  }
 },
 "nbformat": 4,
 "nbformat_minor": 2
}
